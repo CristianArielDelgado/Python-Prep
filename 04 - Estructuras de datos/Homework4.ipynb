{
 "cells": [
  {
   "cell_type": "code",
   "execution_count": 7,
   "metadata": {},
   "outputs": [
    {
     "name": "stdout",
     "output_type": "stream",
     "text": [
      "['Buenos Aires', 'Atenas', 'Londres', 'Beijing', 'New York']\n",
      "['Buenos Aires', 'Atenas', 'Londres', 'Beijing', 'New York']\n"
     ]
    }
   ],
   "source": [
    "#1) Crear una lista que contenga nombres de ciudades del mundo que contenga más de 5 elementos e imprimir por pantalla\n",
    "lista = ['Buenos Aires','Atenas','Londres','Beijing','New York']\n",
    "\n",
    "print(f'{lista}')\n",
    "print(lista)\n",
    "\n"
   ]
  },
  {
   "cell_type": "code",
   "execution_count": 8,
   "metadata": {},
   "outputs": [
    {
     "name": "stdout",
     "output_type": "stream",
     "text": [
      "Atenas\n",
      "Atenas\n"
     ]
    }
   ],
   "source": [
    "#2) Imprimir por pantalla el segundo elemento de la lista\n",
    "\n",
    "print(lista[1])\n",
    "print(f'{lista[1]}')"
   ]
  },
  {
   "cell_type": "code",
   "execution_count": 9,
   "metadata": {},
   "outputs": [
    {
     "name": "stdout",
     "output_type": "stream",
     "text": [
      "['Atenas', 'Londres', 'Beijing', 'New York']\n"
     ]
    }
   ],
   "source": [
    "#3) Imprimir por pantalla del segundo al cuarto elemento\n",
    "print(lista[1:5])\n"
   ]
  },
  {
   "cell_type": "code",
   "execution_count": 11,
   "metadata": {},
   "outputs": [
    {
     "name": "stdout",
     "output_type": "stream",
     "text": [
      "<class 'list'>\n",
      "<class 'list'>\n"
     ]
    }
   ],
   "source": [
    "#4) Visualizar el tipo de dato de la lista\n",
    "\n",
    "print(f'{type(lista)}')\n",
    "print(type(lista))"
   ]
  },
  {
   "cell_type": "code",
   "execution_count": 13,
   "metadata": {},
   "outputs": [
    {
     "name": "stdout",
     "output_type": "stream",
     "text": [
      "['Londres', 'Beijing', 'New York']\n"
     ]
    }
   ],
   "source": [
    "#5) Visualizar todos los elementos de la lista a partir del tercero de manera genérica, es decir, sin explicitar la posición del último elemento\n",
    "print(lista[2:])\n"
   ]
  },
  {
   "cell_type": "code",
   "execution_count": 15,
   "metadata": {},
   "outputs": [
    {
     "name": "stdout",
     "output_type": "stream",
     "text": [
      "['Buenos Aires', 'Atenas', 'Londres', 'Beijing']\n"
     ]
    }
   ],
   "source": [
    "#6) Visualizar los primeros 4 elementos de la lista\n",
    "print(lista[:4])\n"
   ]
  },
  {
   "cell_type": "code",
   "execution_count": 17,
   "metadata": {},
   "outputs": [
    {
     "name": "stdout",
     "output_type": "stream",
     "text": [
      "['Buenos Aires', 'Atenas', 'Londres', 'Beijing', 'New York', 'Atenas', 'Atenas']\n"
     ]
    }
   ],
   "source": [
    "#7) Agregar una ciudad más a la lista que ya exista y otra que no ¿Arroja algún tipo de error?\n",
    "lista.append('Atenas')\n",
    "\n"
   ]
  },
  {
   "cell_type": "code",
   "execution_count": 19,
   "metadata": {},
   "outputs": [
    {
     "name": "stdout",
     "output_type": "stream",
     "text": [
      "['Buenos Aires', 'Atenas', 'Londres', 'Valparaiso', 'Beijing', 'New York', 'Atenas', 'Atenas', 'Montevideo']\n"
     ]
    }
   ],
   "source": [
    "#8) Agregar otra ciudad, pero en la cuarta posición\n",
    "lista.insert(3,'Valparaiso')\n",
    "\n",
    "print(lista)\n"
   ]
  },
  {
   "cell_type": "code",
   "execution_count": 20,
   "metadata": {},
   "outputs": [
    {
     "name": "stdout",
     "output_type": "stream",
     "text": [
      "['Buenos Aires', 'Atenas', 'Londres', 'Valparaiso', 'Beijing', 'New York', 'Atenas', 'Atenas', 'Montevideo', 100, 200, 300, 'Cantidad de poblacion']\n"
     ]
    }
   ],
   "source": [
    "#9) Concatenar otra lista a la ya creada\n",
    "lista2 = [100,200,300,'Cantidad de poblacion']\n",
    "lista.extend(lista2)\n",
    "\n",
    "print(lista)\n"
   ]
  },
  {
   "cell_type": "code",
   "execution_count": 25,
   "metadata": {},
   "outputs": [
    {
     "name": "stdout",
     "output_type": "stream",
     "text": [
      "1\n"
     ]
    }
   ],
   "source": [
    "#10) Encontrar el índice de la ciudad que en el punto 7 agregamos duplicada. ¿Se nota alguna particularidad?\n",
    "print(lista.index('Atenas'))\n",
    "\n"
   ]
  },
  {
   "cell_type": "code",
   "execution_count": null,
   "metadata": {},
   "outputs": [],
   "source": [
    "#11) ¿Qué pasa si se busca un elemento que no existe?\n",
    "    #Python va a dar error. Ej: If me add Paris, Python will say Paris is not in the list\n"
   ]
  },
  {
   "cell_type": "code",
   "execution_count": 26,
   "metadata": {},
   "outputs": [
    {
     "name": "stdout",
     "output_type": "stream",
     "text": [
      "['Buenos Aires', 'Atenas', 'Londres', 'Valparaiso', 'New York', 'Atenas', 'Atenas', 'Montevideo', 100, 200, 300, 'Cantidad de poblacion']\n"
     ]
    }
   ],
   "source": [
    "#12) Eliminar un elemento de la lista\n",
    "lista.remove('Beijing')\n",
    "print(lista)\n"
   ]
  },
  {
   "cell_type": "code",
   "execution_count": 29,
   "metadata": {},
   "outputs": [],
   "source": [
    "#13) ¿Qué pasa si el elemento a eliminar no existe?\n",
    "        #Error. X not in the list\n"
   ]
  },
  {
   "cell_type": "code",
   "execution_count": 30,
   "metadata": {},
   "outputs": [
    {
     "name": "stdout",
     "output_type": "stream",
     "text": [
      "Cantidad de poblacion\n"
     ]
    }
   ],
   "source": [
    "#14) Extraer el úlimo elemento de la lista, guardarlo en una variable e imprimirlo\n",
    "\n",
    "ultimo_elemento = lista.pop()\n",
    "\n",
    "print(ultimo_elemento)\n"
   ]
  },
  {
   "cell_type": "code",
   "execution_count": 32,
   "metadata": {},
   "outputs": [
    {
     "name": "stdout",
     "output_type": "stream",
     "text": [
      "['Buenos Aires', 'Londres', 'Valparaiso', 'New York', 'Atenas', 'Atenas', 'Montevideo', 100, 200, 300, 'Buenos Aires', 'Londres', 'Valparaiso', 'New York', 'Atenas', 'Atenas', 'Montevideo', 100, 200, 300, 'Buenos Aires', 'Londres', 'Valparaiso', 'New York', 'Atenas', 'Atenas', 'Montevideo', 100, 200, 300, 'Buenos Aires', 'Londres', 'Valparaiso', 'New York', 'Atenas', 'Atenas', 'Montevideo', 100, 200, 300]\n"
     ]
    }
   ],
   "source": [
    "#15) Mostrar la lista multiplicada por 4\n",
    "\n",
    "print(lista*4)"
   ]
  },
  {
   "cell_type": "code",
   "execution_count": 33,
   "metadata": {},
   "outputs": [
    {
     "name": "stdout",
     "output_type": "stream",
     "text": [
      "(1, 2, 3, 4, 5, 6, 7, 8, 9, 10, 11, 12, 13, 14, 15, 16, 17, 18, 19, 20)\n",
      "<class 'tuple'>\n"
     ]
    }
   ],
   "source": [
    "#16) Crear una tupla que contenga los números enteros del 1 al 20\n",
    "tupla = (1,2,3,4,5,6,7,8,9,10,11,12,13,14,15,16,17,18,19,20)\n",
    "print(f'{tupla}')\n",
    "print(type(tupla))"
   ]
  },
  {
   "cell_type": "code",
   "execution_count": 34,
   "metadata": {},
   "outputs": [
    {
     "name": "stdout",
     "output_type": "stream",
     "text": [
      "(11, 12, 13, 14, 15, 16)\n"
     ]
    }
   ],
   "source": [
    "#17) Imprimir desde el índice 10 al 15 de la tupla\n",
    "print(tupla[10:16])\n"
   ]
  },
  {
   "cell_type": "code",
   "execution_count": 38,
   "metadata": {},
   "outputs": [
    {
     "name": "stdout",
     "output_type": "stream",
     "text": [
      "True\n",
      "False\n"
     ]
    }
   ],
   "source": [
    "#18) Evaluar si los números 20 y 30 están dentro de la tupla\n",
    "print(20 in tupla)\n",
    "print(30 in tupla)\n"
   ]
  },
  {
   "cell_type": "code",
   "execution_count": 48,
   "metadata": {},
   "outputs": [
    {
     "name": "stdout",
     "output_type": "stream",
     "text": [
      "El elemento ya existe en la lista\n",
      "True\n"
     ]
    },
    {
     "data": {
      "text/plain": [
       "\"\\nelemento = 'París'\\nif (not(elemento in lis)):\\n    lis.append(elemento)\\n    print('Se insertó el elemento', elemento)\\nelse:\\n    print('El elemento', elemento, 'ya existía')\\n\""
      ]
     },
     "execution_count": 48,
     "metadata": {},
     "output_type": "execute_result"
    }
   ],
   "source": [
    "#19) Con la lista creada en el punto 1, validar la existencia del elemento 'París' y si no existe, agregarlo. Utilizar una variable e informar lo sucedido.\n",
    "a = ('Cappadocia' in lista)\n",
    "if (a == False):\n",
    "    lista.append('Cappadocia')\n",
    "    print(f'El elemento no existia en la lista. Fue agregado: {lista}')\n",
    "\n",
    "else:\n",
    "    print(f'El elemento ya existe en la lista')\n",
    "    \n",
    "print(a)\n",
    "\n",
    "\"\"\"\n",
    "Ejemplo propuesto por profesor.         Ejemplo propuesto por profesor.         Ejemplo propuesto por profesor.         Ejemplo propuesto por profesor.         Ejemplo propuesto por profesor.\n",
    "\n",
    "elemento = 'París'\n",
    "if (not(elemento in lis)):\n",
    "    lis.append(elemento)\n",
    "    print('Se insertó el elemento', elemento)\n",
    "else:\n",
    "    print('El elemento', elemento, 'ya existía')\n",
    "Ejemplo propuesto por profesor.         Ejemplo propuesto por profesor.         Ejemplo propuesto por profesor.         Ejemplo propuesto por profesor.         Ejemplo propuesto por profesor.\n",
    "\"\"\"\n"
   ]
  },
  {
   "cell_type": "code",
   "execution_count": 50,
   "metadata": {},
   "outputs": [
    {
     "name": "stdout",
     "output_type": "stream",
     "text": [
      "2\n",
      "1\n"
     ]
    }
   ],
   "source": [
    "#20) Mostrar la cantidad de veces que se encuentra un elemento específico dentro de la tupla y de la lista\n",
    "print(lista.count('Atenas'))\n",
    "print(tupla.count(10))\n"
   ]
  },
  {
   "cell_type": "code",
   "execution_count": 55,
   "metadata": {},
   "outputs": [
    {
     "name": "stdout",
     "output_type": "stream",
     "text": [
      "[1, 2, 3, 4, 5, 6, 7, 8, 9, 10, 11, 12, 13, 14, 15, 16, 17, 18, 19, 20]\n",
      "<class 'list'>\n"
     ]
    }
   ],
   "source": [
    "#21) Convertir la tupla en una lista\n",
    "convertidor = list(tupla)\n",
    "\n",
    "print(convertidor)\n",
    "print(type(convertidor))"
   ]
  },
  {
   "cell_type": "code",
   "execution_count": 64,
   "metadata": {},
   "outputs": [
    {
     "name": "stdout",
     "output_type": "stream",
     "text": [
      "{'Ciudad': ['Buenos Aires', 'Londres', 'Valparaiso', 'New York', 'Atenas', 'Atenas', 'Montevideo', 100, 200, 300, 'Paris', 'Cappadocia'], 'Pais': ['Brasil', 'Paraguay', 'Ecuador', 'Uruguay', 'Chile', 'Perú', 'Venezuela', 'Colombia', 'Méjico', 'Uruguay', 'España', 'Italia', 'Francia'], 'Continente': ['América', 'América', 'América', 'América', 'América', 'América', 'América', 'América', 'América', 'América', 'Europa', 'Europa', 'Europa']}\n"
     ]
    }
   ],
   "source": [
    "#23) Crear un diccionario utilizando la lista crada en el punto 1, asignandole la clave \"ciudad\". Agregar tambien otras claves, como puede ser \"Pais\" y \"Continente\".\n",
    "diccionario = { 'Ciudad': lista,\n",
    "               'Pais':['Brasil','Paraguay','Ecuador','Uruguay','Chile','Perú','Venezuela','Colombia','Méjico','Uruguay','España','Italia','Francia'], \n",
    "               'Continente' : ['América','América','América','América','América','América','América','América','América','América','Europa','Europa','Europa']}  \n",
    "\n",
    "print(diccionario)\n"
   ]
  },
  {
   "cell_type": "code",
   "execution_count": 65,
   "metadata": {},
   "outputs": [
    {
     "name": "stdout",
     "output_type": "stream",
     "text": [
      "dict_keys(['Ciudad', 'Pais', 'Continente'])\n"
     ]
    }
   ],
   "source": [
    "#24) Imprimir las claves del diccionario\n",
    "print(diccionario.keys())\n"
   ]
  },
  {
   "cell_type": "code",
   "execution_count": 66,
   "metadata": {},
   "outputs": [
    {
     "name": "stdout",
     "output_type": "stream",
     "text": [
      "['Buenos Aires', 'Londres', 'Valparaiso', 'New York', 'Atenas', 'Atenas', 'Montevideo', 100, 200, 300, 'Paris', 'Cappadocia']\n"
     ]
    }
   ],
   "source": [
    "#25) Imprimir las ciudades a través de su clave\n",
    "print(diccionario['Ciudad'])"
   ]
  }
 ],
 "metadata": {
  "kernelspec": {
   "display_name": "Python 3",
   "language": "python",
   "name": "python3"
  },
  "language_info": {
   "codemirror_mode": {
    "name": "ipython",
    "version": 3
   },
   "file_extension": ".py",
   "mimetype": "text/x-python",
   "name": "python",
   "nbconvert_exporter": "python",
   "pygments_lexer": "ipython3",
   "version": "3.11.1"
  },
  "orig_nbformat": 4,
  "vscode": {
   "interpreter": {
    "hash": "93f8784377387a826f2f3b618ed6df0ffbba396b969433f9b853e7fed58c3eca"
   }
  }
 },
 "nbformat": 4,
 "nbformat_minor": 2
}
