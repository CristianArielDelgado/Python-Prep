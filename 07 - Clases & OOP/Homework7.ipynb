{
 "cells": [
  {
   "cell_type": "code",
   "execution_count": 10,
   "metadata": {},
   "outputs": [],
   "source": [
    "## Clases y Programación Orientada a Objetos\n",
    "\"\"\"\n",
    "1) Crear la clase vehículo que contenga los atributos:<br>\n",
    "Color<br>\n",
    "Si es moto, auto, camioneta ó camión<br>\n",
    "Cilindrada del motor\n",
    "\"\"\"\n",
    "\n",
    "class Vehiculo:\n",
    "    def __init__(self, color, tipo, cilindrada):\n",
    "        self.color = color\n",
    "        self.tipo = tipo\n",
    "        self.cilindrada = cilindrada\n",
    "        \n"
   ]
  },
  {
   "cell_type": "code",
   "execution_count": 18,
   "metadata": {},
   "outputs": [],
   "source": [
    "\"\"\" 2) A la clase Vehiculo creada en el punto 1, agregar los siguientes métodos:<br>\n",
    "Acelerar<br>\n",
    "Frenar<br>\n",
    "Doblar<br>\"\"\"\n",
    "class Vehiculo:\n",
    "    def __init__(self, color, tipo, cilindrada):\n",
    "        self.color = color\n",
    "        self.tipo = tipo\n",
    "        self.cilindrada = cilindrada\n",
    "        self.velocidad = 0\n",
    "        self.direccion= 0\n",
    "        \n",
    "    def Acelerar(self, vel):\n",
    "        self.velocidad +=vel\n",
    "\n",
    "    def Frenar(self,vel):\n",
    "        self.velocidad-=1\n",
    "\n",
    "    def Doblar(self, grados):\n",
    "        self.direccion += grados    \n",
    "        "
   ]
  },
  {
   "cell_type": "code",
   "execution_count": 23,
   "metadata": {},
   "outputs": [],
   "source": [
    "#3) Instanciar 3 objetos de la clase vehículo y ejecutar sus métodos, probar luego el resultado\n",
    "Objeto1 = Vehiculo('Bordo','Camioneta',3.6)\n",
    "Objeto2 = Vehiculo('Blanco','Auto',2)\n",
    "Objeto3 = Vehiculo ('Negro','Moto',1)\n",
    "\n",
    "Objeto1.Acelerar(40)\n",
    "Objeto2.Acelerar(60)\n",
    "Objeto3.Acelerar(30)\n",
    "\n",
    "Objeto1.Doblar(40)\n",
    "Objeto2.Doblar(-60)\n",
    "Objeto3.Doblar(-50)\n"
   ]
  },
  {
   "cell_type": "code",
   "execution_count": 37,
   "metadata": {},
   "outputs": [],
   "source": [
    "#4) Agregar a la clase Vehiculo, un método que muestre su estado, es decir, a que velocidad se encuentra y su dirección. Y otro método que muestre color, tipo y cilindrada\n",
    "class Vehiculo:\n",
    "    def __init__(self, color, tipo, cilindrada):\n",
    "        self.color = color\n",
    "        self.tipo = tipo\n",
    "        self.cilindrada = cilindrada\n",
    "        self.velocidad = 0\n",
    "        self.direccion= 0\n",
    "        \n",
    "    def Acelerar(self, vel):\n",
    "        self.velocidad +=vel\n",
    "\n",
    "    def Frenar(self,vel):\n",
    "        self.velocidad-=1\n",
    "\n",
    "    def Doblar(self, grados):\n",
    "        self.direccion += grados  \n",
    "    \n",
    "    def Estado(self):\n",
    "        print(f'La {self.tipo} va a una velocidad de {self.velocidad} KM/H.')\n",
    "    \n",
    "    def Detalle(self):\n",
    "        print(f'La {self.tipo} es de color {self.color} y tiene una cilindrada de {self.cilindrada} litros.')\n"
   ]
  },
  {
   "cell_type": "code",
   "execution_count": 38,
   "metadata": {},
   "outputs": [
    {
     "name": "stdout",
     "output_type": "stream",
     "text": [
      "La Camioneta va a una velocidad de 60 KM/H.\n",
      "La Camioneta es de color Bordo y tiene una cilindrada de 3.6 litros.\n"
     ]
    }
   ],
   "source": [
    "Objeto1 = Vehiculo('Bordo','Camioneta',3.6)\n",
    "Objeto1.Acelerar(60)\n",
    "Objeto1.Doblar(-50)\n",
    "\n",
    "Objeto1.Estado()\n",
    "Objeto1.Detalle()"
   ]
  },
  {
   "cell_type": "code",
   "execution_count": 77,
   "metadata": {},
   "outputs": [],
   "source": [
    "\"\"\" 5) Crear una clase que permita utilizar las funciones creadas en la práctica del módulo 6<br>\n",
    "Verificar Primo<br>\n",
    "Valor modal<br>\n",
    "Conversión grados<br>\n",
    "Factorial<br>   \"\"\"\n",
    "\n",
    "class Herramientas:\n",
    "    def __init__(self) -> None:\n",
    "        pass\n",
    "    def verificar_primo(self, numero):\n",
    "        primo = True\n",
    "        for i in range(2,numero):\n",
    "            if (numero%i == 0):\n",
    "                primo=False\n",
    "                break\n",
    "        return primo\n",
    "    \n",
    "    def Maximo_Repetido(lista):\n",
    "        cantidadRepeticiones = 0\n",
    "        numeroMax = 0\n",
    "        \n",
    "        for nro in lista:\n",
    "            numRepetido = lista.count(nro)\n",
    "            if numRepetido > cantidadRepeticiones:\n",
    "                cantidadRepeticiones = numRepetido\n",
    "                numeroMax = nro\n",
    "            \n",
    "        return numeroMax, cantidadRepeticiones\n",
    "\n",
    "    def ConvierteGrados(valor, origen, destino):\n",
    "        if origen == 'Celsius' and destino == 'Celsius':\n",
    "            valordestino = valor\n",
    "            \n",
    "        elif origen == 'Celsius' and destino == 'Farenheit':\n",
    "            valordestino = (valor*9/5)+32\n",
    "            \n",
    "        elif origen == 'Celsius' and destino == 'Kelvin':\n",
    "            valordestino = (valor+273.15)\n",
    "        \n",
    "        if (origen == 'Farenheit'):\n",
    "            if(destino == 'Celsius'):\n",
    "                valordestino= (valor - 32)*5/9\n",
    "            elif (destino == 'Kelvin'):\n",
    "                valordestino = ((valor - 32) * 5 / 9) + 273.15\n",
    "            else:\n",
    "                valordestino=valor\n",
    "                \n",
    "        if (origen == 'Kelvin'):\n",
    "            if(destino == 'Celsius'):\n",
    "                valordestino= valor - 273.15\n",
    "            elif (destino == 'Farenheit'):\n",
    "                valordestino = ((valor - 273.15) * 9 / 5) + 32\n",
    "            else:\n",
    "                valordestino=valor\n",
    "                             \n",
    "        return valordestino, origen, destino\n",
    "    \n",
    "    def factorial(numero):\n",
    "        if(type(numero) != int or numero<=0):\n",
    "            return 'El numero tiene q ser entero y positivo.'\n",
    "        \n",
    "        if (numero>1):\n",
    "            numero *= factorial(numero - 1)\n",
    "        \n",
    "        return numero  \n",
    "\n"
   ]
  },
  {
   "cell_type": "code",
   "execution_count": 78,
   "metadata": {},
   "outputs": [
    {
     "ename": "TypeError",
     "evalue": "Herramientas.ConvierteGrados() takes 3 positional arguments but 4 were given",
     "output_type": "error",
     "traceback": [
      "\u001b[1;31m---------------------------------------------------------------------------\u001b[0m",
      "\u001b[1;31mTypeError\u001b[0m                                 Traceback (most recent call last)",
      "Cell \u001b[1;32mIn[78], line 11\u001b[0m\n\u001b[0;32m      5\u001b[0m h\u001b[39m.\u001b[39mverificar_primo(\u001b[39m98\u001b[39m)\n\u001b[0;32m      8\u001b[0m \u001b[39m#lista = [1,8,2,5,4,8,10,7]\u001b[39;00m\n\u001b[0;32m      9\u001b[0m \u001b[39m#moda, repe = h.Maximo_Repetido(lista, True)\u001b[39;00m\n\u001b[1;32m---> 11\u001b[0m h\u001b[39m.\u001b[39;49mConvierteGrados(\u001b[39m10\u001b[39;49m, \u001b[39m'\u001b[39;49m\u001b[39mCelsius\u001b[39;49m\u001b[39m'\u001b[39;49m, \u001b[39m'\u001b[39;49m\u001b[39mKelvin\u001b[39;49m\u001b[39m'\u001b[39;49m)\n",
      "\u001b[1;31mTypeError\u001b[0m: Herramientas.ConvierteGrados() takes 3 positional arguments but 4 were given"
     ]
    }
   ],
   "source": [
    "#6) Probar las funciones incorporadas en la clase del punto 5\n",
    "h = Herramientas()\n",
    "\n",
    "h.verificar_primo(97)\n",
    "h.verificar_primo(98)\n",
    "\n",
    "\n",
    "#lista = [1,8,2,5,4,8,10,7]\n",
    "#moda, repe = h.Maximo_Repetido(lista, True)\n",
    "\n",
    "h.ConvierteGrados(10, 'Celsius', 'Kelvin')\n",
    "\n",
    "\n",
    "\n"
   ]
  },
  {
   "cell_type": "code",
   "execution_count": 54,
   "metadata": {},
   "outputs": [],
   "source": [
    "#7) Es necesario que la clase creada en el punto 5 contenga una lista, sobre la cual se aplquen las funciones incorporadas\n",
    "\n"
   ]
  },
  {
   "cell_type": "code",
   "execution_count": 55,
   "metadata": {},
   "outputs": [],
   "source": [
    "#8) Crear un archivo .py aparte y ubicar allí la clase generada en el punto anterior. Luego realizar la importación del módulo y probar alguna de sus funciones"
   ]
  }
 ],
 "metadata": {
  "kernelspec": {
   "display_name": "Python 3",
   "language": "python",
   "name": "python3"
  },
  "language_info": {
   "codemirror_mode": {
    "name": "ipython",
    "version": 3
   },
   "file_extension": ".py",
   "mimetype": "text/x-python",
   "name": "python",
   "nbconvert_exporter": "python",
   "pygments_lexer": "ipython3",
   "version": "3.11.1"
  },
  "orig_nbformat": 4,
  "vscode": {
   "interpreter": {
    "hash": "93f8784377387a826f2f3b618ed6df0ffbba396b969433f9b853e7fed58c3eca"
   }
  }
 },
 "nbformat": 4,
 "nbformat_minor": 2
}
