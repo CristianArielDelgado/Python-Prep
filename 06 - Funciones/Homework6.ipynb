{
 "cells": [
  {
   "cell_type": "code",
   "execution_count": 24,
   "metadata": {},
   "outputs": [
    {
     "name": "stdout",
     "output_type": "stream",
     "text": [
      "True\n"
     ]
    }
   ],
   "source": [
    "## Funciones\n",
    "\n",
    "#1) Crear una función que reciba un número como parámetro y devuelva si True si es primo y False si no lo es\n",
    "\n",
    "def Devolver_primo(numero):\n",
    "    primo=True\n",
    "    \n",
    "    for i in range(2,numero):\n",
    "        if (numero % i == 0):\n",
    "            primo = False\n",
    "            break\n",
    "    \n",
    "    return primo\n",
    "\n",
    "verificador= int(input('Ingrese numero a verificar: '))\n",
    "print(Devolver_primo(verificador))\n",
    "\n"
   ]
  },
  {
   "cell_type": "code",
   "execution_count": 37,
   "metadata": {},
   "outputs": [
    {
     "name": "stdout",
     "output_type": "stream",
     "text": [
      "[1, 2, 5, 97]\n"
     ]
    }
   ],
   "source": [
    "#2) Utilizando la función del punto 1, realizar otra función que reciba de parámetro una lista de números y devuelva sólo aquellos que son primos en otra lista\n",
    "\n",
    "lista = [10,2, 5,1, 18, 9, 8, 25, 97]\n",
    "\n",
    "\n",
    "\n",
    "def extrae_primos_de_lista(lista):\n",
    "    lista_primos = []\n",
    "    for elemento in lista:\n",
    "        if Devolver_primo(int(elemento)):\n",
    "            lista_primos.append(elemento)\n",
    "    return lista_primos\n",
    "\n",
    "print(sorted(extrae_primos_de_lista(lista)))\n"
   ]
  },
  {
   "cell_type": "code",
   "execution_count": 87,
   "metadata": {},
   "outputs": [
    {
     "name": "stdout",
     "output_type": "stream",
     "text": [
      "(3, 9)\n"
     ]
    }
   ],
   "source": [
    "#3) Crear una función que al recibir una lista de números, devuelva el que más se repite y cuántas veces lo hace. Si hay más de un \"más repetido\", que devuelva cualquiera\n",
    "lis = [1,1,3,35,3,3,6,8,10,3,22,5,3,6,4,11,9,5,3,3,3,3]\n",
    "\n",
    "def Maximo_Repetido(lista):\n",
    "    cantidadRepeticiones = 0\n",
    "    numeroMax = 0\n",
    "    \n",
    "    for nro in lista:\n",
    "        numRepetido = lista.count(nro)\n",
    "        if numRepetido > cantidadRepeticiones:\n",
    "            cantidadRepeticiones = numRepetido\n",
    "            numeroMax = nro\n",
    "        \n",
    "    return numeroMax, cantidadRepeticiones\n",
    "\n",
    "print(Maximo_Repetido(lis))\n"
   ]
  },
  {
   "cell_type": "code",
   "execution_count": 75,
   "metadata": {},
   "outputs": [],
   "source": [
    "#4) A la función del punto 3, agregar un parámetro más, que permita elegir si se requiere el menor o el mayor de los mas repetidos.\n",
    "\n"
   ]
  },
  {
   "cell_type": "code",
   "execution_count": 112,
   "metadata": {},
   "outputs": [
    {
     "name": "stdout",
     "output_type": "stream",
     "text": [
      "(1, 'Celsius', 'Celsius')\n",
      "(33.8, 'Celsius', 'Farenheit')\n",
      "(274.15, 'Celsius', 'Kelvin')\n",
      "(0.9999999999999984, 'Farenheit', 'Celsius')\n",
      "(255.92777777777775, 'Farenheit', 'Kelvin')\n",
      "(33.8, 'Farenheit', 'Farenheit')\n",
      "(-239.34999999999997, 'Kelvin', 'Celsius')\n",
      "(-457.87, 'Kelvin', 'Farenheit')\n",
      "(33.8, 'Kelvin', 'Kelvin')\n"
     ]
    }
   ],
   "source": [
    "#5) Crear una función que convierta entre grados Celsius, Farenheit y Kelvin<br>\n",
    "#Fórmula 1\t: (°C × 9/5) + 32 = °F<br>\n",
    "#Fórmula 2\t: °C + 273.15 = °K<br>\n",
    "#Debe recibir 3 parámetros: el valor, la medida de orígen y la medida de destino\n",
    "\n",
    "def ConvierteGrados(valor, origen, destino):\n",
    "    if origen == 'Celsius' and destino == 'Celsius':\n",
    "        valordestino = valor\n",
    "        \n",
    "    elif origen == 'Celsius' and destino == 'Farenheit':\n",
    "        valordestino = (valor*9/5)+32\n",
    "        \n",
    "    elif origen == 'Celsius' and destino == 'Kelvin':\n",
    "        valordestino = (valor+273.15)\n",
    "    \n",
    "    if (origen == 'Farenheit'):\n",
    "        if(destino == 'Celsius'):\n",
    "            valordestino= (valor - 32)*5/9\n",
    "        elif (destino == 'Kelvin'):\n",
    "            valordestino = ((valor - 32) * 5 / 9) + 273.15\n",
    "        else:\n",
    "            valordestino=valor\n",
    "            \n",
    "    if (origen == 'Kelvin'):\n",
    "        if(destino == 'Celsius'):\n",
    "            valordestino= valor - 273.15\n",
    "        elif (destino == 'Farenheit'):\n",
    "            valordestino = ((valor - 273.15) * 9 / 5) + 32\n",
    "        else:\n",
    "            valordestino=valor\n",
    "            \n",
    "            \n",
    "            \n",
    "    return valordestino, origen, destino\n",
    "\n",
    "\n",
    "\n",
    "print(ConvierteGrados(1,'Celsius','Celsius'))\n",
    "print(ConvierteGrados(1,'Celsius','Farenheit'))\n",
    "print(ConvierteGrados(1,'Celsius','Kelvin'))\n",
    "\n",
    "print(ConvierteGrados(33.8,'Farenheit','Celsius'))\n",
    "print(ConvierteGrados(1,'Farenheit','Kelvin'))\n",
    "print(ConvierteGrados(33.8,'Farenheit','Farenheit'))\n",
    "\n",
    "print(ConvierteGrados(33.8,'Kelvin','Celsius'))\n",
    "print(ConvierteGrados(1,'Kelvin','Farenheit'))\n",
    "print(ConvierteGrados(33.8,'Kelvin','Kelvin'))\n",
    "\n",
    "\n",
    "\n"
   ]
  },
  {
   "cell_type": "code",
   "execution_count": 116,
   "metadata": {},
   "outputs": [
    {
     "name": "stdout",
     "output_type": "stream",
     "text": [
      "1 grado Celsius a Celsius : (1, 'Celsius', 'Celsius')\n",
      "1 grado Celsius a Farenheit : (33.8, 'Celsius', 'Farenheit')\n",
      "1 grado Celsius a Kelvin : (274.15, 'Celsius', 'Kelvin')\n",
      "1 grado Farenheit a Celsius : (-17.22222222222222, 'Farenheit', 'Celsius')\n",
      "1 grado Farenheit a Farenheit : (1, 'Farenheit', 'Farenheit')\n",
      "1 grado Farenheit a Kelvin : (255.92777777777775, 'Farenheit', 'Kelvin')\n",
      "1 grado Kelvin a Celsius : (-272.15, 'Kelvin', 'Celsius')\n",
      "1 grado Kelvin a Farenheit : (-457.87, 'Kelvin', 'Farenheit')\n",
      "1 grado Kelvin a Kelvin : (1, 'Kelvin', 'Kelvin')\n"
     ]
    }
   ],
   "source": [
    "#6) Iterando una lista con los tres valores posibles de temperatura que recibe la función del punto 5, hacer un print para cada combinación de los mismos:\n",
    "lista = ['Celsius', 'Farenheit', 'Kelvin']\n",
    "\n",
    "for i in range(0,3):\n",
    "    for j in range(0,3):\n",
    "        print('1 grado', lista[i], 'a', lista[j],':', ConvierteGrados(1, lista[i], lista[j]))\n"
   ]
  },
  {
   "cell_type": "code",
   "execution_count": 140,
   "metadata": {},
   "outputs": [
    {
     "name": "stdout",
     "output_type": "stream",
     "text": [
      "120\n",
      "El numero tiene q ser entero y positivo.\n",
      "El numero tiene q ser entero y positivo.\n",
      "El numero tiene q ser entero y positivo.\n"
     ]
    }
   ],
   "source": [
    "#7) Armar una función que devuelva el factorial de un número. Tener en cuenta que el usuario puede equivocarse y enviar de parámetro un número no entero o negativo\n",
    "\n",
    "def factorial(numero):\n",
    "    if(type(numero) != int or numero<=0):\n",
    "        return 'El numero tiene q ser entero y positivo.'\n",
    "    \n",
    "    if (numero>1):\n",
    "        numero *= factorial(numero - 1)\n",
    "    \n",
    "    return numero\n",
    "\n",
    "\n",
    "print(factorial(5))\n",
    "print(factorial(-2))\n",
    "print(factorial(1.23))\n",
    "print(factorial('6'))"
   ]
  }
 ],
 "metadata": {
  "kernelspec": {
   "display_name": "Python 3",
   "language": "python",
   "name": "python3"
  },
  "language_info": {
   "codemirror_mode": {
    "name": "ipython",
    "version": 3
   },
   "file_extension": ".py",
   "mimetype": "text/x-python",
   "name": "python",
   "nbconvert_exporter": "python",
   "pygments_lexer": "ipython3",
   "version": "3.11.1"
  },
  "orig_nbformat": 4,
  "vscode": {
   "interpreter": {
    "hash": "93f8784377387a826f2f3b618ed6df0ffbba396b969433f9b853e7fed58c3eca"
   }
  }
 },
 "nbformat": 4,
 "nbformat_minor": 2
}
