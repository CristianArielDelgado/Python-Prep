{
 "cells": [
  {
   "cell_type": "code",
   "execution_count": 5,
   "metadata": {},
   "outputs": [
    {
     "name": "stdout",
     "output_type": "stream",
     "text": [
      "El numero 150 es mayor a 0.\n"
     ]
    }
   ],
   "source": [
    "#1) Crear una variable que contenga un elemento del conjunto de números enteros y luego imprimir por pantalla si es mayor o menor a cero\n",
    "numero = int(input('Ingrese un numero: '))\n",
    "\n",
    "if numero >0:\n",
    "    print(f'El numero {numero} es mayor a 0.')\n",
    "elif numero <0:\n",
    "    print(f'El numero {numero} es menor a 0.')   \n",
    "else:\n",
    "    print('El numero es igual a cero.')\n",
    "\n"
   ]
  },
  {
   "cell_type": "code",
   "execution_count": 8,
   "metadata": {},
   "outputs": [
    {
     "name": "stdout",
     "output_type": "stream",
     "text": [
      "Las variables no tienen el mismo tipo de dato\n"
     ]
    }
   ],
   "source": [
    "#2) Crear dos variables y un condicional que informe si son del mismo tipo de dato\n",
    "variable1= int(input('Ingrese variable'))\n",
    "variable2= input('Ingrese variable')\n",
    "\n",
    "if type(variable1)==type(variable2):\n",
    "    print(f'Las variables {variable1} y {variable2} corresponden al mismo tipo de dato')\n",
    "else:\n",
    "    print('Las variables no tienen el mismo tipo de dato')"
   ]
  },
  {
   "cell_type": "code",
   "execution_count": 9,
   "metadata": {},
   "outputs": [
    {
     "name": "stdout",
     "output_type": "stream",
     "text": [
      "El numero 1 es impar.\n",
      "El numero 2 es par.\n",
      "El numero 3 es impar.\n",
      "El numero 4 es par.\n",
      "El numero 5 es impar.\n",
      "El numero 6 es par.\n",
      "El numero 7 es impar.\n",
      "El numero 8 es par.\n",
      "El numero 9 es impar.\n",
      "El numero 10 es par.\n",
      "El numero 11 es impar.\n",
      "El numero 12 es par.\n",
      "El numero 13 es impar.\n",
      "El numero 14 es par.\n",
      "El numero 15 es impar.\n",
      "El numero 16 es par.\n",
      "El numero 17 es impar.\n",
      "El numero 18 es par.\n",
      "El numero 19 es impar.\n",
      "El numero 20 es par.\n"
     ]
    }
   ],
   "source": [
    "#3) Para los valores enteros del 1 al 20, imprimir por pantalla si es par o impar\n",
    "\n",
    "for n in range(1,21):\n",
    "    if n%2==0:\n",
    "        print(f'El numero {n} es par.')\n",
    "    else:\n",
    "        print(f'El numero {n} es impar.')\n",
    "        \n",
    "\n"
   ]
  },
  {
   "cell_type": "code",
   "execution_count": 14,
   "metadata": {},
   "outputs": [
    {
     "name": "stdout",
     "output_type": "stream",
     "text": [
      "El valor 0 elevado a la 3ra potencia da como resultado: 0.\n",
      "El valor 1 elevado a la 3ra potencia da como resultado: 1.\n",
      "El valor 2 elevado a la 3ra potencia da como resultado: 8.\n",
      "El valor 3 elevado a la 3ra potencia da como resultado: 27.\n",
      "El valor 4 elevado a la 3ra potencia da como resultado: 64.\n",
      "El valor 5 elevado a la 3ra potencia da como resultado: 125.\n"
     ]
    }
   ],
   "source": [
    "#4) En un ciclo for mostrar para los valores entre 0 y 5 el resultado de elevarlo a la potencia igual a 3\n",
    "for n in range(0,6):\n",
    "    print(f'El valor {n} elevado a la 3ra potencia da como resultado: {n**3}.')\n"
   ]
  },
  {
   "cell_type": "code",
   "execution_count": 5,
   "metadata": {},
   "outputs": [
    {
     "name": "stdout",
     "output_type": "stream",
     "text": [
      "0\n",
      "1\n",
      "2\n",
      "3\n",
      "4\n"
     ]
    }
   ],
   "source": [
    "#5) Crear una variable que contenga un número entero y realizar un ciclo for la misma cantidad de ciclos\n",
    "numero = int(input('Ingrese cantidad de ciclos: '))\n",
    "\n",
    "for n in range(0,numero):\n",
    "     print(f'{n}')\n",
    "\n",
    "\n"
   ]
  },
  {
   "cell_type": "code",
   "execution_count": 17,
   "metadata": {},
   "outputs": [
    {
     "name": "stdout",
     "output_type": "stream",
     "text": [
      "El factorial es: 120\n"
     ]
    },
    {
     "data": {
      "text/plain": [
       "'     VOLVER A PRACTICAR      VOLVER A PRACTICAR          VOLVER A PRACTICAR          VOLVER A PRACTICAR   VOLVER A PRACTICAR     VOLVER A PRACTICAR   '"
      ]
     },
     "execution_count": 17,
     "metadata": {},
     "output_type": "execute_result"
    }
   ],
   "source": [
    "#6) Utilizar un ciclo while para realizar el factorial de un número guardado en una variable, sólo si la variable contiene un número entero mayor a 0\n",
    "\"\"\"     VOLVER A PRACTICAR      VOLVER A PRACTICAR          VOLVER A PRACTICAR          VOLVER A PRACTICAR   VOLVER A PRACTICAR     VOLVER A PRACTICAR   \"\"\"\n",
    "numero = int(input('Ingrese numero a factorizar: '))\n",
    "\n",
    "if type(numero) == int:\n",
    "    if numero >0:\n",
    "        factorial = numero\n",
    "        while(numero>2):\n",
    "            numero-=1\n",
    "            factorial=factorial*numero\n",
    "        print(f'El factorial es: {factorial}')\n",
    "    else:\n",
    "        print('El numero no es mayor a cero.')\n",
    "            \n",
    "    \n",
    "else:\n",
    "    print(f'El numero {numero} no se puede factorizar.')\n",
    "\n",
    "\"\"\"     VOLVER A PRACTICAR      VOLVER A PRACTICAR          VOLVER A PRACTICAR          VOLVER A PRACTICAR   VOLVER A PRACTICAR     VOLVER A PRACTICAR   \"\"\"\n",
    "    \n",
    "    \n"
   ]
  },
  {
   "cell_type": "code",
   "execution_count": 23,
   "metadata": {},
   "outputs": [
    {
     "name": "stdout",
     "output_type": "stream",
     "text": [
      "Ciclo while numero: 2\n",
      "Ciclo for numero: 1\n",
      "Ciclo while numero: 3\n",
      "Ciclo for numero: 1\n",
      "Ciclo while numero: 3\n",
      "Ciclo for numero: 2\n",
      "Ciclo while numero: 4\n",
      "Ciclo for numero: 1\n",
      "Ciclo while numero: 4\n",
      "Ciclo for numero: 2\n",
      "Ciclo while numero: 4\n",
      "Ciclo for numero: 3\n",
      "Ciclo while numero: 5\n",
      "Ciclo for numero: 1\n",
      "Ciclo while numero: 5\n",
      "Ciclo for numero: 2\n",
      "Ciclo while numero: 5\n",
      "Ciclo for numero: 3\n",
      "Ciclo while numero: 5\n",
      "Ciclo for numero: 4\n"
     ]
    }
   ],
   "source": [
    "#7) Crear un ciclo for dentro de un ciclo while\n",
    "n = 0\n",
    "while (n<5):\n",
    "    n+=1\n",
    "    for i in range(1,n):\n",
    "        print(f'Ciclo while numero: {n}')\n",
    "        print(f'Ciclo for numero: {i}')\n",
    "\n"
   ]
  },
  {
   "cell_type": "code",
   "execution_count": 32,
   "metadata": {},
   "outputs": [],
   "source": [
    "#8) Crear un ciclo while dentro de un ciclo for\n",
    "n = int(5)\n",
    "for i in range(0,n):\n",
    "    while (n<5):\n",
    "        n-=1\n",
    "        print(f'El numero while es: {n}')\n",
    "        print(f'El numero for es: {i}')\n",
    "\n",
    "\n"
   ]
  },
  {
   "cell_type": "code",
   "execution_count": 16,
   "metadata": {},
   "outputs": [
    {
     "name": "stdout",
     "output_type": "stream",
     "text": [
      "0 es primo.\n",
      "1 es primo.\n",
      "2 es primo.\n",
      "3 es primo.\n",
      "5 es primo.\n",
      "7 es primo.\n",
      "11 es primo.\n",
      "13 es primo.\n",
      "17 es primo.\n",
      "19 es primo.\n",
      "23 es primo.\n",
      "29 es primo.\n"
     ]
    },
    {
     "data": {
      "text/plain": [
       "'     VOLVER A PRACTICAR      VOLVER A PRACTICAR          VOLVER A PRACTICAR          VOLVER A PRACTICAR   VOLVER A PRACTICAR     VOLVER A PRACTICAR   '"
      ]
     },
     "execution_count": 16,
     "metadata": {},
     "output_type": "execute_result"
    }
   ],
   "source": [
    "#9) Imprimir los números primos existentes entre 0 y 30\n",
    "\"\"\"     VOLVER A PRACTICAR      VOLVER A PRACTICAR          VOLVER A PRACTICAR          VOLVER A PRACTICAR   VOLVER A PRACTICAR     VOLVER A PRACTICAR   \"\"\"\n",
    "\"\"\"\n",
    "tope_rango=30\n",
    "n = 0\n",
    "primo = True\n",
    "while (n < tope_rango):\n",
    "    for div in range(2, n):\n",
    "        if (n % div == 0):\n",
    "            primo = False\n",
    "    if (primo):\n",
    "        print(n)\n",
    "    else:\n",
    "        primo = True\n",
    "    n += 1\n",
    "    \"\"\" \n",
    "# Otra forma de resolver el ejercicio:\n",
    "\n",
    "for nro in range (0,31):\n",
    "    es_primo = True\n",
    "\n",
    "    for i in range(2,nro):\n",
    "        if (nro%i==0):\n",
    "            es_primo=False\n",
    "    if (es_primo):\n",
    "        print(f'{nro} es primo.')\n",
    "    #else:\n",
    "    #    print(nro, 'no es primo.')\n",
    "    \n",
    "\"\"\"     VOLVER A PRACTICAR      VOLVER A PRACTICAR          VOLVER A PRACTICAR          VOLVER A PRACTICAR   VOLVER A PRACTICAR     VOLVER A PRACTICAR   \"\"\"\n"
   ]
  },
  {
   "cell_type": "code",
   "execution_count": 21,
   "metadata": {},
   "outputs": [
    {
     "name": "stdout",
     "output_type": "stream",
     "text": [
      "0 es primo.\n",
      "1 es primo.\n",
      "2 es primo.\n",
      "3 es primo.\n",
      "5 es primo.\n",
      "7 es primo.\n",
      "11 es primo.\n",
      "13 es primo.\n",
      "17 es primo.\n",
      "19 es primo.\n",
      "23 es primo.\n",
      "29 es primo.\n"
     ]
    }
   ],
   "source": [
    "#10) ¿Se puede mejorar el proceso del punto 9? Utilizar las sentencias break y/ó continue para tal fin\n",
    "\"\"\"     VOLVER A PRACTICAR      VOLVER A PRACTICAR          VOLVER A PRACTICAR          VOLVER A PRACTICAR   VOLVER A PRACTICAR     VOLVER A PRACTICAR   \"\"\"\n",
    "\n",
    "\"\"\"  \n",
    "n = 0\n",
    "primo = True\n",
    "while (n < tope_rango):\n",
    "    for div in range(2, n):\n",
    "        if (n % div == 0):\n",
    "            primo = False\n",
    "            break\n",
    "    if (primo):\n",
    "        print(n)\n",
    "    else:\n",
    "        primo = True\n",
    "    n += 1\n",
    "    \"\"\"\n",
    "    \n",
    "    # OTRA FORMA DE RESOLVER EL EJERCICIO\n",
    "            \n",
    "for nro in range (0,31):\n",
    "    es_primo = True\n",
    "\n",
    "    for i in range(2,nro):\n",
    "        if (nro%i==0):\n",
    "            es_primo=False\n",
    "            break\n",
    "    if (es_primo):\n",
    "        print(f'{nro} es primo.')\n",
    "    \n",
    "    \n",
    "    \n",
    "    \"\"\"     VOLVER A PRACTICAR      VOLVER A PRACTICAR          VOLVER A PRACTICAR          VOLVER A PRACTICAR   VOLVER A PRACTICAR     VOLVER A PRACTICAR   \"\"\"\n"
   ]
  },
  {
   "cell_type": "code",
   "execution_count": null,
   "metadata": {},
   "outputs": [],
   "source": [
    "\n",
    "#11) En los puntos 9 y 10, se diseño un código que encuentra números primos y además se lo optimizó. ¿Es posible saber en qué medida se optimizó?\n",
    "\"\"\"     VOLVER A PRACTICAR      VOLVER A PRACTICAR          VOLVER A PRACTICAR          VOLVER A PRACTICAR   VOLVER A PRACTICAR     VOLVER A PRACTICAR   \"\"\"\n",
    "ciclos_sin_break = 0\n",
    "n = 0\n",
    "primo = True\n",
    "while (n < tope_rango):\n",
    "    for div in range(2, n):\n",
    "        ciclos_sin_break += 1\n",
    "        if (n % div == 0):\n",
    "            primo = False\n",
    "    if (primo):\n",
    "        print(n)\n",
    "    else:\n",
    "        primo = True\n",
    "    n += 1\n",
    "print('Cantidad de ciclos: ' + str(ciclos_sin_break))\n",
    "\"\"\"     VOLVER A PRACTICAR      VOLVER A PRACTICAR          VOLVER A PRACTICAR          VOLVER A PRACTICAR   VOLVER A PRACTICAR     VOLVER A PRACTICAR   \"\"\"\n",
    "\n"
   ]
  },
  {
   "cell_type": "code",
   "execution_count": 22,
   "metadata": {},
   "outputs": [
    {
     "ename": "NameError",
     "evalue": "name 'tope_rango' is not defined",
     "output_type": "error",
     "traceback": [
      "\u001b[1;31m---------------------------------------------------------------------------\u001b[0m",
      "\u001b[1;31mNameError\u001b[0m                                 Traceback (most recent call last)",
      "Cell \u001b[1;32mIn[22], line 6\u001b[0m\n\u001b[0;32m      4\u001b[0m n \u001b[39m=\u001b[39m \u001b[39m0\u001b[39m\n\u001b[0;32m      5\u001b[0m primo \u001b[39m=\u001b[39m \u001b[39mTrue\u001b[39;00m\n\u001b[1;32m----> 6\u001b[0m \u001b[39mwhile\u001b[39;00m (n \u001b[39m<\u001b[39m tope_rango):\n\u001b[0;32m      7\u001b[0m     \u001b[39mfor\u001b[39;00m div \u001b[39min\u001b[39;00m \u001b[39mrange\u001b[39m(\u001b[39m2\u001b[39m, n):\n\u001b[0;32m      8\u001b[0m         ciclos_con_break \u001b[39m+\u001b[39m\u001b[39m=\u001b[39m \u001b[39m1\u001b[39m\n",
      "\u001b[1;31mNameError\u001b[0m: name 'tope_rango' is not defined"
     ]
    }
   ],
   "source": [
    "#12) Si la cantidad de números que se evalúa es mayor a treinta, esa optimización crece?\n",
    "\"\"\"     VOLVER A PRACTICAR      VOLVER A PRACTICAR          VOLVER A PRACTICAR          VOLVER A PRACTICAR   VOLVER A PRACTICAR     VOLVER A PRACTICAR   \"\"\"\n",
    "ciclos_con_break = 0\n",
    "n = 0\n",
    "primo = True\n",
    "while (n < tope_rango):\n",
    "    for div in range(2, n):\n",
    "        ciclos_con_break += 1\n",
    "        if (n % div == 0):\n",
    "            primo = False\n",
    "            break\n",
    "    if (primo):\n",
    "        print(n)\n",
    "    else:\n",
    "        primo = True\n",
    "    n += 1\n",
    "print('Cantidad de ciclos: ' + str(ciclos_con_break))\n",
    "print('Se optimizó a un ' + str(ciclos_con_break/ciclos_sin_break) + '% de ciclos aplicando break')\n",
    "\"\"\"     VOLVER A PRACTICAR      VOLVER A PRACTICAR          VOLVER A PRACTICAR          VOLVER A PRACTICAR   VOLVER A PRACTICAR     VOLVER A PRACTICAR   \"\"\""
   ]
  },
  {
   "cell_type": "code",
   "execution_count": 40,
   "metadata": {},
   "outputs": [
    {
     "name": "stdout",
     "output_type": "stream",
     "text": [
      "108 es divisible por 12.\n",
      "120 es divisible por 12.\n",
      "132 es divisible por 12.\n",
      "144 es divisible por 12.\n",
      "156 es divisible por 12.\n",
      "168 es divisible por 12.\n",
      "180 es divisible por 12.\n",
      "192 es divisible por 12.\n",
      "204 es divisible por 12.\n",
      "216 es divisible por 12.\n",
      "228 es divisible por 12.\n",
      "240 es divisible por 12.\n",
      "252 es divisible por 12.\n",
      "264 es divisible por 12.\n",
      "276 es divisible por 12.\n",
      "288 es divisible por 12.\n",
      "300 es divisible por 12.\n"
     ]
    }
   ],
   "source": [
    "#13) Aplicando continue, armar un ciclo while que solo imprima los valores divisibles por 12, dentro del rango de números de 100 a 300\n",
    "\"\"\"     VOLVER A PRACTICAR      VOLVER A PRACTICAR          VOLVER A PRACTICAR          VOLVER A PRACTICAR   VOLVER A PRACTICAR     VOLVER A PRACTICAR   \"\"\"\n",
    "n=99\n",
    "while (n<=300):\n",
    "    n += 1\n",
    "    if (n%12!=0):\n",
    "        continue\n",
    "    print(f'{n} es divisible por 12.')\n",
    "    \n",
    "\"\"\"     VOLVER A PRACTICAR      VOLVER A PRACTICAR          VOLVER A PRACTICAR          VOLVER A PRACTICAR   VOLVER A PRACTICAR     VOLVER A PRACTICAR   \"\"\"\n",
    "\n",
    "\n",
    "\n"
   ]
  },
  {
   "cell_type": "code",
   "execution_count": 2,
   "metadata": {},
   "outputs": [
    {
     "name": "stdout",
     "output_type": "stream",
     "text": [
      "1\n",
      "¿Desea encontrar el siguiente número primo?\n",
      "Se finaliza el proceso\n"
     ]
    }
   ],
   "source": [
    "#14) Utilizar la función **input()** que permite hacer ingresos por teclado, para encontrar números primos y dar la opción al usario de buscar el siguiente\n",
    "n = 1\n",
    "sigue = 1\n",
    "primo = True\n",
    "while (sigue == 1):\n",
    "    for div in range(2, n):\n",
    "        if (n % div == 0):\n",
    "            primo = False\n",
    "            break\n",
    "    if (primo):\n",
    "        print(n)\n",
    "        print('¿Desea encontrar el siguiente número primo?')\n",
    "        if (input() != '1'):\n",
    "            print('Se finaliza el proceso')\n",
    "            break\n",
    "    else:\n",
    "        primo = True\n",
    "    n += 1\n"
   ]
  },
  {
   "cell_type": "code",
   "execution_count": 46,
   "metadata": {},
   "outputs": [
    {
     "name": "stdout",
     "output_type": "stream",
     "text": [
      "El numero es 102\n"
     ]
    }
   ],
   "source": [
    "#15) Crear un ciclo while que encuentre dentro del rango de 100 a 300 el primer número divisible por 3 y además múltiplo de 6\n",
    "n=100\n",
    "while (n<=300):\n",
    "    if n%6==0:\n",
    "        print('El numero es', str(n))\n",
    "        break\n",
    "    n+=1\n",
    "\n"
   ]
  }
 ],
 "metadata": {
  "kernelspec": {
   "display_name": "Python 3",
   "language": "python",
   "name": "python3"
  },
  "language_info": {
   "codemirror_mode": {
    "name": "ipython",
    "version": 3
   },
   "file_extension": ".py",
   "mimetype": "text/x-python",
   "name": "python",
   "nbconvert_exporter": "python",
   "pygments_lexer": "ipython3",
   "version": "3.11.1"
  },
  "orig_nbformat": 4,
  "vscode": {
   "interpreter": {
    "hash": "93f8784377387a826f2f3b618ed6df0ffbba396b969433f9b853e7fed58c3eca"
   }
  }
 },
 "nbformat": 4,
 "nbformat_minor": 2
}
