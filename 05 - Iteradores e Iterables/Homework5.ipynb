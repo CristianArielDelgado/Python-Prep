{
 "cells": [
  {
   "cell_type": "code",
   "execution_count": 2,
   "metadata": {},
   "outputs": [
    {
     "name": "stdout",
     "output_type": "stream",
     "text": [
      "<class 'list'>\n",
      "[-15, -14, -13, -12, -11, -10, -9, -8, -7, -6, -5, -4, -3, -2, -1]\n"
     ]
    }
   ],
   "source": [
    "# 1) A partir de una lista vacía, utilizar un ciclo while para cargar allí números negativos del -15 al -1\n",
    "\n",
    "lista = []\n",
    "print(type(lista))\n",
    "num = int(-15)\n",
    "\n",
    "#for i in range (-15,-2):\n",
    "while (num <= -1):\n",
    "    lista.append(num)\n",
    "    num+=1 \n",
    "print(lista)  \n"
   ]
  },
  {
   "cell_type": "code",
   "execution_count": 3,
   "metadata": {},
   "outputs": [
    {
     "name": "stdout",
     "output_type": "stream",
     "text": [
      "-14\n",
      "-12\n",
      "-10\n",
      "-8\n",
      "-6\n",
      "-4\n",
      "-2\n"
     ]
    }
   ],
   "source": [
    "#2) ¿Con un ciclo while sería posible recorrer la lista para imprimir sólo los números pares?\n",
    "#VOLVER A HACER         VOLVER A HACER          VOLVER A HACER          VOLVER A HACER          VOLVER A HACER          VOLVER A HACER          VOLVER A HACER          VOLVER A HACER\n",
    "num = 0\n",
    "\n",
    "while (num<len(lista)):\n",
    "    if (lista[num] % 2 == 0):\n",
    "        print(lista[num])\n",
    "    num+=1\n",
    "    \n",
    "#VOLVER A HACER         VOLVER A HACER          VOLVER A HACER          VOLVER A HACER          VOLVER A HACER          VOLVER A HACER          VOLVER A HACER          VOLVER A HACER\n",
    "\n"
   ]
  },
  {
   "cell_type": "code",
   "execution_count": 4,
   "metadata": {},
   "outputs": [
    {
     "name": "stdout",
     "output_type": "stream",
     "text": [
      "-14\n",
      "-12\n",
      "-10\n",
      "-8\n",
      "-6\n",
      "-4\n",
      "-2\n"
     ]
    }
   ],
   "source": [
    "#3) Resolver el punto anterior sin utilizar un ciclo while\n",
    "#VOLVER A HACER         VOLVER A HACER          VOLVER A HACER          VOLVER A HACER          VOLVER A HACER          VOLVER A HACER          VOLVER A HACER          VOLVER A HACER\n",
    "\n",
    "for elemento in lista:\n",
    "    if (elemento%2==0):\n",
    "        print(elemento)\n",
    "    \n",
    "#VOLVER A HACER         VOLVER A HACER          VOLVER A HACER          VOLVER A HACER          VOLVER A HACER          VOLVER A HACER          VOLVER A HACER          VOLVER A HACER\n",
    "\n"
   ]
  },
  {
   "cell_type": "code",
   "execution_count": 8,
   "metadata": {},
   "outputs": [
    {
     "name": "stdout",
     "output_type": "stream",
     "text": [
      "-15\n",
      "-14\n",
      "-13\n"
     ]
    }
   ],
   "source": [
    "#4) Utilizar el iterable para recorrer sólo los primeros 3 elementos\n",
    "for elemento in lista[0:3]:\n",
    "    print(elemento)\n"
   ]
  },
  {
   "cell_type": "code",
   "execution_count": 12,
   "metadata": {},
   "outputs": [
    {
     "name": "stdout",
     "output_type": "stream",
     "text": [
      "0 -15\n",
      "1 -14\n",
      "2 -13\n",
      "3 -12\n",
      "4 -11\n",
      "5 -10\n",
      "6 -9\n",
      "7 -8\n",
      "8 -7\n",
      "9 -6\n",
      "10 -5\n",
      "11 -4\n",
      "12 -3\n",
      "13 -2\n",
      "14 -1\n"
     ]
    }
   ],
   "source": [
    "#5) Utilizar la función **enumerate** para obtener dentro del iterable, tambien el índice al que corresponde el elemento\n",
    "\n",
    "for a, b in enumerate(lista):\n",
    "    print(a,b)"
   ]
  },
  {
   "cell_type": "code",
   "execution_count": 31,
   "metadata": {},
   "outputs": [
    {
     "name": "stdout",
     "output_type": "stream",
     "text": [
      "[1, 2, 3, 4, 5, 6, 7, 8, 9, 10, 11, 12, 13, 14, 15, 16, 17, 18, 19, 20]\n"
     ]
    }
   ],
   "source": [
    "#6) Dada la siguiente lista de números enteros entre 1 y 20, crear un ciclo donde se completen los valores faltantes: lista = [1,2,5,7,8,10,13,14,15,17,20]\n",
    "\n",
    "#VOLVER A HACER         VOLVER A HACER          VOLVER A HACER          VOLVER A HACER          VOLVER A HACER          VOLVER A HACER          VOLVER A HACER          VOLVER A HACER\n",
    "\n",
    "lista= [1,2,5,7,8,10,13,14,15,17,20]\n",
    "i=1\n",
    "while (i<=20):\n",
    "    if (not(i in lista)):\n",
    "        lista.insert((i-1),i)\n",
    "        \n",
    "    i+=1\n",
    "print(lista) \n",
    "\n",
    "\n",
    "    \n",
    "\n",
    "#VOLVER A HACER         VOLVER A HACER          VOLVER A HACER          VOLVER A HACER          VOLVER A HACER          VOLVER A HACER          VOLVER A HACER          VOLVER A HACER\n",
    "\n",
    "\n",
    "\n"
   ]
  },
  {
   "cell_type": "code",
   "execution_count": 45,
   "metadata": {},
   "outputs": [
    {
     "name": "stdout",
     "output_type": "stream",
     "text": [
      "[0, 1, 1, 2, 3, 5, 8, 13, 21, 34, 55, 89, 144, 233, 377, 610, 987, 1597, 2584, 4181, 6765, 10946, 17711, 28657, 46368, 75025, 121393, 196418, 317811, 514229]\n"
     ]
    }
   ],
   "source": [
    "\"\"\"7) La sucesión de Fibonacci es un listado de números que sigue la fórmula: <br>\n",
    "n<sub>0</sub> = 0<br>\n",
    "n<sub>1</sub> = 1<br>\n",
    "n<sub>i</sub> = n<sub>i-1</sub> + n<sub>i-2</sub><br>\n",
    "Crear una lista con los primeros treinta números de la sucesión.<br>\n",
    "\"\"\"   \n",
    "#VOLVER A HACER         VOLVER A HACER          VOLVER A HACER          VOLVER A HACER          VOLVER A HACER          VOLVER A HACER          VOLVER A HACER          VOLVER A HACER\n",
    "#VOLVER A HACER         VOLVER A HACER          VOLVER A HACER          VOLVER A HACER          VOLVER A HACER          VOLVER A HACER          VOLVER A HACER          VOLVER A HACER\n",
    "\n",
    "    \n",
    "fibo = [0,1]\n",
    "n = 2\n",
    "while(n < 30):\n",
    "    fibo.append(fibo[n-1]+fibo[n-2])\n",
    "    n += 1\n",
    "print(fibo)\n",
    " \n",
    "#VOLVER A HACER         VOLVER A HACER          VOLVER A HACER          VOLVER A HACER          VOLVER A HACER          VOLVER A HACER          VOLVER A HACER          VOLVER A HACER\n",
    "#VOLVER A HACER         VOLVER A HACER          VOLVER A HACER          VOLVER A HACER          VOLVER A HACER          VOLVER A HACER          VOLVER A HACER          VOLVER A HACER\n",
    "\n",
    "\n",
    "\n",
    "\n",
    "\n"
   ]
  },
  {
   "cell_type": "code",
   "execution_count": 47,
   "metadata": {},
   "outputs": [
    {
     "name": "stdout",
     "output_type": "stream",
     "text": [
      "1346268\n"
     ]
    }
   ],
   "source": [
    "#8) Realizar la suma de todos elementos de la lista del punto anterior\n",
    "print(sum(fibo))\n",
    "\n",
    "    \n"
   ]
  },
  {
   "cell_type": "code",
   "execution_count": 48,
   "metadata": {},
   "outputs": [
    {
     "name": "stdout",
     "output_type": "stream",
     "text": [
      "1.6176470588235294\n",
      "1.6181818181818182\n",
      "1.6179775280898876\n",
      "1.6180555555555556\n",
      "1.6180257510729614\n"
     ]
    }
   ],
   "source": [
    "\"\"\" 9) La proporción aurea se expresa con una proporción matemática que nace el número irracional Phi= 1,618… que los griegos llamaron número áureo. \n",
    "El cuál se puede aproximar con la sucesión de Fibonacci. Con la lista del ejercicio anterior, imprimir el cociente de los últimos 5 pares de dos números contiguos:<br>\n",
    "Donde i es la cantidad total de elementos<br>\n",
    "n<sub>i-1</sub> / n<sub>i</sub><br>\n",
    "n<sub>i-2</sub> / n<sub>i-1</sub><br>\n",
    "n<sub>i-3</sub> / n<sub>i-2</sub><br>\n",
    "n<sub>i-4</sub> / n<sub>i-3</sub><br>\n",
    "n<sub>i-5</sub> / n<sub>i-4</sub><br>\n",
    "\"\"\"\n",
    "#VOLVER A HACER         VOLVER A HACER          VOLVER A HACER          VOLVER A HACER          VOLVER A HACER          VOLVER A HACER          VOLVER A HACER          VOLVER A HACER\n",
    "#VOLVER A HACER         VOLVER A HACER          VOLVER A HACER          VOLVER A HACER          VOLVER A HACER          VOLVER A HACER          VOLVER A HACER          VOLVER A HACER\n",
    "primeros = 15\n",
    "n = primeros - 5\n",
    "while(n < primeros):\n",
    "    print(fibo[n]/fibo[n-1])\n",
    "    n += 1\n",
    "\n",
    "\n",
    "\n",
    "\n",
    "#VOLVER A HACER         VOLVER A HACER          VOLVER A HACER          VOLVER A HACER          VOLVER A HACER          VOLVER A HACER          VOLVER A HACER          VOLVER A HACER\n",
    "#VOLVER A HACER         VOLVER A HACER          VOLVER A HACER          VOLVER A HACER          VOLVER A HACER          VOLVER A HACER          VOLVER A HACER          VOLVER A HACER\n",
    "\n",
    "\n",
    "\n",
    " \n",
    " \n",
    "\n"
   ]
  },
  {
   "cell_type": "code",
   "execution_count": 50,
   "metadata": {},
   "outputs": [
    {
     "name": "stdout",
     "output_type": "stream",
     "text": [
      "7\n",
      "21\n",
      "39\n",
      "60\n",
      "67\n"
     ]
    }
   ],
   "source": [
    "#10) A partir de la variable cadena ya dada, mostrar en qué posiciones aparece la letra \"n\"<br>\n",
    "#cadena = 'Hola Mundo. Esto es una practica del lenguaje de programación Python'\n",
    "cadena = 'Hola Mundo. Esto es una practica del lenguaje de programación Python'\n",
    "\n",
    "for a,b in enumerate(cadena):\n",
    "    if b == 'n':\n",
    "        print(a)\n",
    "\n"
   ]
  },
  {
   "cell_type": "code",
   "execution_count": 54,
   "metadata": {},
   "outputs": [
    {
     "name": "stdout",
     "output_type": "stream",
     "text": [
      "Ciudad\n",
      "País\n",
      "Continente\n"
     ]
    }
   ],
   "source": [
    "#11) Crear un diccionario e imprimir sus claves utilizando un iterador\n",
    "dicc = {  'Ciudad': ['Buenos Aires','Caracas','Bogotá','Lisboa','Roma'], \n",
    "'País': ['Argentina','Venezuela','Colombia','Portugal','Italia'], \n",
    "'Continente' : ['América','América','América','Europa','Europa']}\n",
    "\n",
    "for i in dicc:\n",
    "    print(i)\n",
    "    \n"
   ]
  },
  {
   "cell_type": "code",
   "execution_count": 56,
   "metadata": {},
   "outputs": [
    {
     "name": "stdout",
     "output_type": "stream",
     "text": [
      "H\n",
      "o\n",
      "l\n",
      "a\n",
      " \n",
      "M\n",
      "u\n",
      "n\n",
      "d\n",
      "o\n",
      ".\n",
      " \n",
      "E\n",
      "s\n",
      "t\n",
      "o\n",
      " \n",
      "e\n",
      "s\n",
      " \n",
      "u\n",
      "n\n",
      "a\n",
      " \n",
      "p\n",
      "r\n",
      "a\n",
      "c\n",
      "t\n",
      "i\n",
      "c\n",
      "a\n",
      " \n",
      "d\n",
      "e\n",
      "l\n",
      " \n",
      "l\n",
      "e\n",
      "n\n",
      "g\n",
      "u\n",
      "a\n",
      "j\n",
      "e\n",
      " \n",
      "d\n",
      "e\n",
      " \n",
      "p\n",
      "r\n",
      "o\n",
      "g\n",
      "r\n",
      "a\n",
      "m\n",
      "a\n",
      "c\n",
      "i\n",
      "ó\n",
      "n\n",
      " \n",
      "P\n",
      "y\n",
      "t\n",
      "h\n",
      "o\n",
      "n\n",
      "LISTO           Listo           Listo           Listo\n",
      "H\n",
      "o\n",
      "l\n",
      "a\n",
      " \n",
      "M\n",
      "u\n",
      "n\n",
      "d\n",
      "o\n",
      ".\n",
      " \n",
      "E\n",
      "s\n",
      "t\n",
      "o\n",
      " \n",
      "e\n",
      "s\n",
      " \n",
      "u\n",
      "n\n",
      "a\n",
      " \n",
      "p\n",
      "r\n",
      "a\n",
      "c\n",
      "t\n",
      "i\n",
      "c\n",
      "a\n",
      " \n",
      "d\n",
      "e\n",
      "l\n",
      " \n",
      "l\n",
      "e\n",
      "n\n",
      "g\n",
      "u\n",
      "a\n",
      "j\n",
      "e\n",
      " \n",
      "d\n",
      "e\n",
      " \n",
      "p\n",
      "r\n",
      "o\n",
      "g\n",
      "r\n",
      "a\n",
      "m\n",
      "a\n",
      "c\n",
      "i\n",
      "ó\n",
      "n\n",
      " \n",
      "P\n",
      "y\n",
      "t\n",
      "h\n",
      "o\n",
      "n\n"
     ]
    }
   ],
   "source": [
    "#12) Convertir en una lista la variable \"cadena\" del punto 10 y luego recorrerla con un iterador \n",
    "cadena = 'Hola Mundo. Esto es una practica del lenguaje de programación Python'\n",
    "\n",
    "lista = list(cadena)\n",
    "for i in lista:\n",
    "    print(i)\n",
    "    \n",
    "#Otra forma de hacerlo\n",
    "recorre = iter(cadena)\n",
    "largo = len(cadena)\n",
    "for i in range(0, largo):\n",
    "    print(next(recorre))\n"
   ]
  },
  {
   "cell_type": "code",
   "execution_count": 59,
   "metadata": {},
   "outputs": [
    {
     "name": "stdout",
     "output_type": "stream",
     "text": [
      "<class 'zip'>\n",
      "[(10, 'Blanco'), (20, 'Rojo'), (30, 'Azul')]\n"
     ]
    }
   ],
   "source": [
    "#13) Crear dos listas y unirlas en una tupla utilizando la función zip\n",
    "lista1=[10,20,30]\n",
    "lista2= ['Blanco','Rojo','Azul']\n",
    "\n",
    "\n",
    "unimos= zip(lista1,lista2)\n",
    "\n",
    "print(type(unimos))\n",
    "print(list(unimos))\n",
    "\n"
   ]
  },
  {
   "cell_type": "code",
   "execution_count": 66,
   "metadata": {},
   "outputs": [
    {
     "name": "stdout",
     "output_type": "stream",
     "text": [
      "[21, 35, 42, 56, 63, 84, 91]\n"
     ]
    }
   ],
   "source": [
    "#14) A partir de la siguiente lista de números, crear una nueva sólo si el número es divisible por 7<br>\n",
    "lis = [18,21,29,32,35,42,56,60,63,71,84,90,91,100]\n",
    "\n",
    "lista2 = [i for i in lis if i%7==0]\n",
    "\n",
    "print(lista2)\n",
    "\n"
   ]
  },
  {
   "cell_type": "code",
   "execution_count": 71,
   "metadata": {},
   "outputs": [
    {
     "name": "stdout",
     "output_type": "stream",
     "text": [
      "La cantidad de elementos que tiene la lista es: 12.\n"
     ]
    }
   ],
   "source": [
    "#15) A partir de la lista de a continuación, contar la cantidad total de elementos que contiene, teniendo en cuenta que un elemento de la lista podría ser otra lista:<br>\n",
    "lista = [[1,2,3,4],'rojo','verde',[True,False,False],['uno','dos','tres']]\n",
    "\n",
    "cantidad = 0\n",
    "for elemento in lista:\n",
    "    if (type(elemento)==list):\n",
    "        cantidad+=len(elemento)\n",
    "    else:\n",
    "        cantidad+=1\n",
    "        \n",
    "print(f'La cantidad de elementos que tiene la lista es: {cantidad}.')\n",
    "\n"
   ]
  },
  {
   "cell_type": "code",
   "execution_count": 73,
   "metadata": {},
   "outputs": [
    {
     "name": "stdout",
     "output_type": "stream",
     "text": [
      "[[1, 2, 3, 4], ['rojo'], ['verde'], [True, False, False], ['uno', 'dos', 'tres']]\n"
     ]
    }
   ],
   "source": [
    "#16) Tomar la lista del punto anterior y convertir cada elemento en una lista si no lo es\n",
    "\n",
    "for indice, elemento in enumerate(lista):\n",
    "    if (not(type(elemento)==list)):     # if (type(elemento) != list):\n",
    "        lista[indice]=[elemento]\n",
    "\n",
    "print(lista)\n",
    "\n",
    "\n",
    "\n",
    "        "
   ]
  }
 ],
 "metadata": {
  "kernelspec": {
   "display_name": "Python 3",
   "language": "python",
   "name": "python3"
  },
  "language_info": {
   "codemirror_mode": {
    "name": "ipython",
    "version": 3
   },
   "file_extension": ".py",
   "mimetype": "text/x-python",
   "name": "python",
   "nbconvert_exporter": "python",
   "pygments_lexer": "ipython3",
   "version": "3.11.1"
  },
  "orig_nbformat": 4,
  "vscode": {
   "interpreter": {
    "hash": "93f8784377387a826f2f3b618ed6df0ffbba396b969433f9b853e7fed58c3eca"
   }
  }
 },
 "nbformat": 4,
 "nbformat_minor": 2
}
